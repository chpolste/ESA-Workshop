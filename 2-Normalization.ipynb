{
 "cells": [
  {
   "cell_type": "markdown",
   "metadata": {},
   "source": [
    "# Part II Hands-on: ESA Implementation and Normalization\n",
    "\n",
    "- Hands-on exercise for the StuMeTa 2021 Workshop \"__A Practical Introduction to Ensemble Sensitivity Analysis__\"\n",
    "- Presentation by [Christopher Polster](mailto:cpolster@uni-mainz.de)\n",
    "- Material: https://github.com/chpolste/ESA-Workshop\n",
    "\n",
    "\n",
    "## Objective\n",
    "\n",
    "Implement ESA and compare normalizations.\n",
    "\n",
    "\n",
    "## Preparation"
   ]
  },
  {
   "cell_type": "code",
   "execution_count": null,
   "metadata": {},
   "outputs": [],
   "source": [
    "import datetime as dt\n",
    "import numpy as np\n",
    "import xarray as xr\n",
    "import matplotlib.pyplot as plt\n",
    "from cartopy import crs\n",
    "\n",
    "%matplotlib inline"
   ]
  },
  {
   "cell_type": "code",
   "execution_count": null,
   "metadata": {},
   "outputs": [],
   "source": [
    "# Map projection\n",
    "carree = crs.PlateCarree()\n",
    "\n",
    "# Contour setup for ensemble-mean 500 hPa Geopotential\n",
    "z500_kwargs = {\n",
    "    \"levels\": [4900, 5100, 5300, 5500, 5700, 5900],\n",
    "    \"colors\": \"black\",\n",
    "    \"linewidths\": 1\n",
    "}\n",
    "\n",
    "# add_axes with basic setup of a map\n",
    "def add_map(fig, pos):\n",
    "    ax = fig.add_axes(pos, projection=carree)\n",
    "    ax.set_ylim((10, 90))\n",
    "    ax.set_xlim((-180, 60))\n",
    "    ax.coastlines()\n",
    "    grid = ax.gridlines(\n",
    "        xlocs=[-150, -120, -90, -60, -30, 0, 30],\n",
    "        ylocs=[30, 60],\n",
    "        draw_labels=True\n",
    "    )\n",
    "    grid.right_labels = False\n",
    "    grid.top_labels = False\n",
    "    return ax"
   ]
  },
  {
   "cell_type": "markdown",
   "metadata": {},
   "source": [
    "Load the data:"
   ]
  },
  {
   "cell_type": "code",
   "execution_count": null,
   "metadata": {},
   "outputs": [],
   "source": [
    "data = xr.load_dataset(\"data/data-2016-03-07.nc\")\n",
    "print(data)"
   ]
  },
  {
   "cell_type": "markdown",
   "metadata": {},
   "source": [
    "The file contains two variables:\n",
    "\n",
    "- `z500`: 500 hPa geopotential height (Z500) forecasts from the IFS ENS, initialized on 2016-03-07 00Z. Fields are available every 24 hours of lead time, out to 6 days (144 hours). These are the source fields in the sensitivity analysis.\n",
    "- `rmse`: Forecast error of the 500 hPa geopotential height forecast in terms of the RMSE of every ensemble member relative to ERA5 over Europe (35°N-75°N, 12.5°W-42.5°E) evaluated at 144 hours lead time. This is our target metric in the sensitivity analysis. The larger this value, the worse the forecast for Europe.\n",
    "\n",
    "Extract the RMSE values and the corresponding Z500 fields for the same valid time."
   ]
  },
  {
   "cell_type": "code",
   "execution_count": null,
   "metadata": {},
   "outputs": [],
   "source": [
    "# Coordinates for plotting\n",
    "lat = data.latitude.values\n",
    "lon = data.longitude.values\n",
    "\n",
    "# The sensitivity target/forecast metric is the Z500 RMSE over Europe at +144 h\n",
    "target = data.rmse.values\n",
    "# The sensitivity source/forecast field is Z500\n",
    "source = data.z500.sel(time=\"2016-03-13\", drop=True).values"
   ]
  },
  {
   "cell_type": "markdown",
   "metadata": {},
   "source": [
    "## First Look\n",
    "\n",
    "---\n",
    "\n",
    "__Task__: Plot a histogram of the target values."
   ]
  },
  {
   "cell_type": "code",
   "execution_count": null,
   "metadata": {},
   "outputs": [],
   "source": [
    "plt.figure(figsize=(10, 3))\n",
    "\n",
    "... # TODO\n",
    "\n",
    "plt.title(\"500 hPa Geopotential RMSE [gpm] +144 h\", loc=\"left\");"
   ]
  },
  {
   "cell_type": "markdown",
   "metadata": {},
   "source": [
    "The metric is evalutated at 7 days lead time, so we expect some errors in the forecasts and a bit of spread in the RMSE.\n",
    "\n",
    "---\n",
    "\n",
    "__Task__: Plot the ensemble mean and standard deviation of the source Z500 field."
   ]
  },
  {
   "cell_type": "code",
   "execution_count": null,
   "metadata": {
    "scrolled": false
   },
   "outputs": [],
   "source": [
    "fig = plt.figure(figsize=(10, 5))\n",
    "ax = add_map(fig, (0.1, 0.2, 0.8, 0.8))\n",
    "cx = fig.add_axes((0.2, 0.2, 0.6, 0.03))\n",
    "\n",
    "mean = ... # TODO\n",
    "std  = ... # TODO\n",
    "\n",
    "# Ensemble Z500 spread as filled contours\n",
    "cf = ax.contourf(lon, lat, std, transform=carree, cmap=\"cubehelix_r\")\n",
    "plt.colorbar(cf, cax=cx, orientation=\"horizontal\")\n",
    "\n",
    "# Ensemble Z500 mean as contours\n",
    "ct = ax.contour(lon, lat, mean, transform=carree, **z500_kwargs)\n",
    "\n",
    "# Forecast Error Metric Region (35°N-75°N, 12.5°W-42.5°E)\n",
    "ax.add_patch(plt.Rectangle([-12.5, 35], 55, 40, fill=False, edgecolor=\"k\", linewidth=3, transform=carree))\n",
    "\n",
    "ax.set_title(\"500 hPa Geopotential Mean and Standard Deviation [gpm] +144 h\", loc=\"left\");"
   ]
  },
  {
   "cell_type": "markdown",
   "metadata": {},
   "source": [
    "## Slope-based ESA\n",
    "\n",
    "---\n",
    "\n",
    "**Task**: Implement slope-based ESA. Compute the slope of the linear regression line between the source and target ensemble at every gridpoint:\n",
    "\n",
    "$$ \\mathrm{l}_i = \\frac{\\mathrm{cov}(\\mathbf{t}, \\mathbf{s}_i)}{\\sigma_{\\mathbf{s}_i}^2} $$\n",
    "\n",
    "Reminder: the (co)variances are evaluated along the ensemble dimension. Here, this is axis `0` of the source array (axis `1` is latitude and axis `2` is longitude). Note that [`np.cov`](https://numpy.org/doc/stable/reference/generated/numpy.cov.html) does not support the `axis` argument. you can use loops (the problem size considered here is small enough that this is feasible even with Python loops), or compute the covariance yourself with functions that have an `axis` argument."
   ]
  },
  {
   "cell_type": "code",
   "execution_count": null,
   "metadata": {},
   "outputs": [],
   "source": [
    "def esa_slope(source, target):\n",
    "    ... # TODO"
   ]
  },
  {
   "cell_type": "markdown",
   "metadata": {},
   "source": [
    "---\n",
    "\n",
    "Plot a slope-based sensitivity map."
   ]
  },
  {
   "cell_type": "code",
   "execution_count": null,
   "metadata": {},
   "outputs": [],
   "source": [
    "fig = plt.figure(figsize=(10, 5))\n",
    "ax = add_map(fig, (0.1, 0.2, 0.8, 0.8))\n",
    "cx = fig.add_axes((0.2, 0.2, 0.6, 0.03))\n",
    "\n",
    "mean = ... # TODO\n",
    "sens = ... # TODO\n",
    "\n",
    "# Slope-sensitivity map\n",
    "cf = ax.contourf(lon, lat, sens, transform=carree, cmap=\"RdBu_r\", extend=\"both\",\n",
    "                 levels=[-1.2, -1.0, -0.8, -0.6, -0.4, -0.2, 0.2, 0.4, 0.6, 0.8, 1.2])\n",
    "plt.colorbar(cf, cax=cx, orientation=\"horizontal\", spacing=\"proportional\")\n",
    "\n",
    "# Ensemble Z500 mean as contours\n",
    "ct = ax.contour(lon, lat, mean, transform=carree, **z500_kwargs)\n",
    "\n",
    "# Forecast Error Metric Region (35°N-75°N, 12.5°W-42.5°E)\n",
    "ax.add_patch(plt.Rectangle([-12.5, 35], 55, 40, fill=False, edgecolor=\"k\", linewidth=3, transform=carree))\n",
    "\n",
    "ax.set_title(\"500 hPa Geopotential Mean and Standard Deviation [gpm] +144 h\", loc=\"left\");"
   ]
  },
  {
   "cell_type": "markdown",
   "metadata": {},
   "source": [
    "---\n",
    "\n",
    "## Apply normalization\n",
    "\n",
    "---\n",
    "\n",
    "__Task__: Implement the 3 normalized variants of ESA and compare the sensitivity maps.\n",
    "\n",
    "- Normalize source (multiply by $\\sigma_{\\mathbf{s}_i}$): $ \\frac{\\mathrm{cov}(\\mathbf{t}, \\mathbf{s}_i)}{\\sigma_{\\mathbf{s}_i} } $\n",
    "- Normalize target (divide by $\\sigma_{\\mathbf{t}}$): $ \\frac{\\mathrm{cov}(\\mathbf{t}, \\mathbf{s}_i)}{\\sigma_{\\mathbf{s}_i}^2 \\sigma_{\\mathbf{t}}} $\n",
    "- Normalize both (correlation): $ \\frac{\\mathrm{cov}(\\mathbf{t}, \\mathbf{s}_i)}{\\sigma_{\\mathbf{s}_i} \\sigma_{\\mathbf{t}}} $"
   ]
  },
  {
   "cell_type": "code",
   "execution_count": null,
   "metadata": {},
   "outputs": [],
   "source": [
    "sens_slope       = esa_slope(source, target)\n",
    "sens_norm_source = ... # TODO\n",
    "sens_norm_target = ... # TODO\n",
    "sens_corr        = ... # TODO\n",
    "\n",
    "\n",
    "# To generate a colorbar symmetric around 0\n",
    "def symm_lvls(data, nlvl=12):\n",
    "    extr = max(abs(np.min(data)), abs(np.max(data)))\n",
    "    return { \"cmap\": \"RdBu_r\", \"levels\": np.linspace(-extr, extr, 14) }\n",
    "\n",
    "# Create a 2x2-panel plot similar to the table in the presentation\n",
    "fig = plt.figure(figsize=(12, 6))\n",
    "\n",
    "# Top left: slope without normalization\n",
    "ax1 = add_map(fig, (0.07, 0.60, 0.4, 0.4))\n",
    "cx1 = fig.add_axes((0.12, 0.57, 0.3, 0.03))\n",
    "cf = ax1.contourf(lon, lat, sens_slope, transform=carree, **symm_lvls(sens_slope))\n",
    "plt.colorbar(cf, cax=cx1, orientation=\"horizontal\")\n",
    "ax1.set_title(\"$\\mathrm{cov}(y, x_i) \\sigma_{x_i}^{-2}$ (slope) [gpm/gpm]\", loc=\"left\")\n",
    "\n",
    "# Top right: slope normalized by the gridpoint-wise standard deviation of the source fields at every\n",
    "ax2 = add_map(fig, (0.57, 0.6, 0.4, 0.4))\n",
    "cx2 = fig.add_axes((0.62, 0.57, 0.3, 0.03))\n",
    "cf = ax2.contourf(lon, lat, sens_norm_source, transform=carree, **symm_lvls(sens_norm_source))\n",
    "plt.colorbar(cf, cax=cx2, orientation=\"horizontal\")\n",
    "ax2.set_title(\"$\\mathrm{cov}(y, x_i) \\sigma_{x_i}^{-1}$ [gpm]\", loc=\"left\")\n",
    "\n",
    "# Bottom left: slope normalized by the standard deviation of the target metric\n",
    "ax3 = add_map(fig, (0.07, 0.1, 0.4, 0.4))\n",
    "cx3 = fig.add_axes((0.12, 0.07, 0.3, 0.03))\n",
    "cf = ax3.contourf(lon, lat, sens_norm_target, transform=carree, **symm_lvls(sens_norm_target))\n",
    "plt.colorbar(cf, cax=cx3, orientation=\"horizontal\")\n",
    "ax3.set_title(\"$\\mathrm{cov}(y, x_i) \\sigma_{x_i}^{-2} \\sigma_{y}^{-1}$ [1/gpm]\", loc=\"left\")\n",
    "\n",
    "# Bottom right: correlation (both normalizations applied)\n",
    "ax4 = add_map(fig, (0.57, 0.1, 0.4, 0.4))\n",
    "cx4 = fig.add_axes((0.62, 0.07, 0.3, 0.03))\n",
    "cf = ax4.contourf(lon, lat, sens_corr, transform=carree, **symm_lvls(sens_corr))\n",
    "plt.colorbar(cf, cax=cx4, orientation=\"horizontal\")\n",
    "ax4.set_title(\"$\\mathrm{cov}(y, x_i) \\sigma_{x_i}^{-1} \\sigma_{y}^{-1}$ (correlation) [unitless]\", loc=\"left\");"
   ]
  },
  {
   "cell_type": "markdown",
   "metadata": {},
   "source": [
    "---"
   ]
  }
 ],
 "metadata": {
  "kernelspec": {
   "display_name": "Python 3",
   "language": "python",
   "name": "python3"
  },
  "language_info": {
   "codemirror_mode": {
    "name": "ipython",
    "version": 3
   },
   "file_extension": ".py",
   "mimetype": "text/x-python",
   "name": "python",
   "nbconvert_exporter": "python",
   "pygments_lexer": "ipython3",
   "version": "3.9.6"
  }
 },
 "nbformat": 4,
 "nbformat_minor": 4
}
